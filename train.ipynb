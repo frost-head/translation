{
 "cells": [
  {
   "cell_type": "code",
   "execution_count": 1,
   "metadata": {},
   "outputs": [],
   "source": [
    "import torch\n",
    "import torch.nn as nn\n",
    "from nmodel import model, modelArguments\n",
    "import time\n",
    "import re\n",
    "import math"
   ]
  },
  {
   "cell_type": "code",
   "execution_count": 2,
   "metadata": {},
   "outputs": [],
   "source": [
    "CUDA_LAUCH_BLOCKING = 1\n",
    "\n",
    "TORCH_USE_CUDA_DSA = True\n",
    "\n"
   ]
  },
  {
   "cell_type": "code",
   "execution_count": 3,
   "metadata": {},
   "outputs": [],
   "source": [
    "torch.set_float32_matmul_precision('medium')"
   ]
  },
  {
   "cell_type": "code",
   "execution_count": 4,
   "metadata": {},
   "outputs": [],
   "source": [
    "def count_parameters(model):\n",
    "    return sum(p.numel() for p in model.parameters() if p.requires_grad)\n"
   ]
  },
  {
   "cell_type": "code",
   "execution_count": 5,
   "metadata": {},
   "outputs": [],
   "source": [
    "fmodel = model(modelArguments)\n",
    "fmodel = fmodel.to('cuda')\n",
    "\n"
   ]
  },
  {
   "cell_type": "code",
   "execution_count": 7,
   "metadata": {},
   "outputs": [],
   "source": [
    "# fmodel(a, a)"
   ]
  },
  {
   "cell_type": "code",
   "execution_count": 8,
   "metadata": {},
   "outputs": [
    {
     "name": "stdout",
     "output_type": "stream",
     "text": [
      "shared_emb.shared_weight\n",
      "encoderlayer.self_attn.in_proj_weight\n",
      "encoderlayer.self_attn.in_proj_bias\n",
      "encoderlayer.self_attn.out_proj.weight\n",
      "encoderlayer.self_attn.out_proj.bias\n",
      "encoderlayer.linear1.weight\n",
      "encoderlayer.linear1.bias\n",
      "encoderlayer.linear2.weight\n",
      "encoderlayer.linear2.bias\n",
      "encoderlayer.norm1.weight\n",
      "encoderlayer.norm1.bias\n",
      "encoderlayer.norm2.weight\n",
      "encoderlayer.norm2.bias\n",
      "encoder.layers.0.self_attn.in_proj_weight\n",
      "encoder.layers.0.self_attn.in_proj_bias\n",
      "encoder.layers.0.self_attn.out_proj.weight\n",
      "encoder.layers.0.self_attn.out_proj.bias\n",
      "encoder.layers.0.linear1.weight\n",
      "encoder.layers.0.linear1.bias\n",
      "encoder.layers.0.linear2.weight\n",
      "encoder.layers.0.linear2.bias\n",
      "encoder.layers.0.norm1.weight\n",
      "encoder.layers.0.norm1.bias\n",
      "encoder.layers.0.norm2.weight\n",
      "encoder.layers.0.norm2.bias\n",
      "encoder.layers.1.self_attn.in_proj_weight\n",
      "encoder.layers.1.self_attn.in_proj_bias\n",
      "encoder.layers.1.self_attn.out_proj.weight\n",
      "encoder.layers.1.self_attn.out_proj.bias\n",
      "encoder.layers.1.linear1.weight\n",
      "encoder.layers.1.linear1.bias\n",
      "encoder.layers.1.linear2.weight\n",
      "encoder.layers.1.linear2.bias\n",
      "encoder.layers.1.norm1.weight\n",
      "encoder.layers.1.norm1.bias\n",
      "encoder.layers.1.norm2.weight\n",
      "encoder.layers.1.norm2.bias\n",
      "encoder.layers.2.self_attn.in_proj_weight\n",
      "encoder.layers.2.self_attn.in_proj_bias\n",
      "encoder.layers.2.self_attn.out_proj.weight\n",
      "encoder.layers.2.self_attn.out_proj.bias\n",
      "encoder.layers.2.linear1.weight\n",
      "encoder.layers.2.linear1.bias\n",
      "encoder.layers.2.linear2.weight\n",
      "encoder.layers.2.linear2.bias\n",
      "encoder.layers.2.norm1.weight\n",
      "encoder.layers.2.norm1.bias\n",
      "encoder.layers.2.norm2.weight\n",
      "encoder.layers.2.norm2.bias\n",
      "encoder.layers.3.self_attn.in_proj_weight\n",
      "encoder.layers.3.self_attn.in_proj_bias\n",
      "encoder.layers.3.self_attn.out_proj.weight\n",
      "encoder.layers.3.self_attn.out_proj.bias\n",
      "encoder.layers.3.linear1.weight\n",
      "encoder.layers.3.linear1.bias\n",
      "encoder.layers.3.linear2.weight\n",
      "encoder.layers.3.linear2.bias\n",
      "encoder.layers.3.norm1.weight\n",
      "encoder.layers.3.norm1.bias\n",
      "encoder.layers.3.norm2.weight\n",
      "encoder.layers.3.norm2.bias\n",
      "decoderlayer.self_attn.in_proj_weight\n",
      "decoderlayer.self_attn.in_proj_bias\n",
      "decoderlayer.self_attn.out_proj.weight\n",
      "decoderlayer.self_attn.out_proj.bias\n",
      "decoderlayer.multihead_attn.in_proj_weight\n",
      "decoderlayer.multihead_attn.in_proj_bias\n",
      "decoderlayer.multihead_attn.out_proj.weight\n",
      "decoderlayer.multihead_attn.out_proj.bias\n",
      "decoderlayer.linear1.weight\n",
      "decoderlayer.linear1.bias\n",
      "decoderlayer.linear2.weight\n",
      "decoderlayer.linear2.bias\n",
      "decoderlayer.norm1.weight\n",
      "decoderlayer.norm1.bias\n",
      "decoderlayer.norm2.weight\n",
      "decoderlayer.norm2.bias\n",
      "decoderlayer.norm3.weight\n",
      "decoderlayer.norm3.bias\n",
      "decoder.layers.0.self_attn.in_proj_weight\n",
      "decoder.layers.0.self_attn.in_proj_bias\n",
      "decoder.layers.0.self_attn.out_proj.weight\n",
      "decoder.layers.0.self_attn.out_proj.bias\n",
      "decoder.layers.0.multihead_attn.in_proj_weight\n",
      "decoder.layers.0.multihead_attn.in_proj_bias\n",
      "decoder.layers.0.multihead_attn.out_proj.weight\n",
      "decoder.layers.0.multihead_attn.out_proj.bias\n",
      "decoder.layers.0.linear1.weight\n",
      "decoder.layers.0.linear1.bias\n",
      "decoder.layers.0.linear2.weight\n",
      "decoder.layers.0.linear2.bias\n",
      "decoder.layers.0.norm1.weight\n",
      "decoder.layers.0.norm1.bias\n",
      "decoder.layers.0.norm2.weight\n",
      "decoder.layers.0.norm2.bias\n",
      "decoder.layers.0.norm3.weight\n",
      "decoder.layers.0.norm3.bias\n",
      "decoder.layers.1.self_attn.in_proj_weight\n",
      "decoder.layers.1.self_attn.in_proj_bias\n",
      "decoder.layers.1.self_attn.out_proj.weight\n",
      "decoder.layers.1.self_attn.out_proj.bias\n",
      "decoder.layers.1.multihead_attn.in_proj_weight\n",
      "decoder.layers.1.multihead_attn.in_proj_bias\n",
      "decoder.layers.1.multihead_attn.out_proj.weight\n",
      "decoder.layers.1.multihead_attn.out_proj.bias\n",
      "decoder.layers.1.linear1.weight\n",
      "decoder.layers.1.linear1.bias\n",
      "decoder.layers.1.linear2.weight\n",
      "decoder.layers.1.linear2.bias\n",
      "decoder.layers.1.norm1.weight\n",
      "decoder.layers.1.norm1.bias\n",
      "decoder.layers.1.norm2.weight\n",
      "decoder.layers.1.norm2.bias\n",
      "decoder.layers.1.norm3.weight\n",
      "decoder.layers.1.norm3.bias\n",
      "decoder.layers.2.self_attn.in_proj_weight\n",
      "decoder.layers.2.self_attn.in_proj_bias\n",
      "decoder.layers.2.self_attn.out_proj.weight\n",
      "decoder.layers.2.self_attn.out_proj.bias\n",
      "decoder.layers.2.multihead_attn.in_proj_weight\n",
      "decoder.layers.2.multihead_attn.in_proj_bias\n",
      "decoder.layers.2.multihead_attn.out_proj.weight\n",
      "decoder.layers.2.multihead_attn.out_proj.bias\n",
      "decoder.layers.2.linear1.weight\n",
      "decoder.layers.2.linear1.bias\n",
      "decoder.layers.2.linear2.weight\n",
      "decoder.layers.2.linear2.bias\n",
      "decoder.layers.2.norm1.weight\n",
      "decoder.layers.2.norm1.bias\n",
      "decoder.layers.2.norm2.weight\n",
      "decoder.layers.2.norm2.bias\n",
      "decoder.layers.2.norm3.weight\n",
      "decoder.layers.2.norm3.bias\n",
      "decoder.layers.3.self_attn.in_proj_weight\n",
      "decoder.layers.3.self_attn.in_proj_bias\n",
      "decoder.layers.3.self_attn.out_proj.weight\n",
      "decoder.layers.3.self_attn.out_proj.bias\n",
      "decoder.layers.3.multihead_attn.in_proj_weight\n",
      "decoder.layers.3.multihead_attn.in_proj_bias\n",
      "decoder.layers.3.multihead_attn.out_proj.weight\n",
      "decoder.layers.3.multihead_attn.out_proj.bias\n",
      "decoder.layers.3.linear1.weight\n",
      "decoder.layers.3.linear1.bias\n",
      "decoder.layers.3.linear2.weight\n",
      "decoder.layers.3.linear2.bias\n",
      "decoder.layers.3.norm1.weight\n",
      "decoder.layers.3.norm1.bias\n",
      "decoder.layers.3.norm2.weight\n",
      "decoder.layers.3.norm2.bias\n",
      "decoder.layers.3.norm3.weight\n",
      "decoder.layers.3.norm3.bias\n",
      "norm.weight\n",
      "norm.bias\n",
      "norm1.weight\n",
      "norm1.bias\n"
     ]
    }
   ],
   "source": [
    "for name, para in fmodel.named_parameters():\n",
    "    print(name)"
   ]
  },
  {
   "cell_type": "code",
   "execution_count": null,
   "metadata": {},
   "outputs": [],
   "source": [
    "\n",
    "\n"
   ]
  },
  {
   "cell_type": "code",
   "execution_count": 9,
   "metadata": {},
   "outputs": [
    {
     "data": {
      "text/plain": [
       "<All keys matched successfully>"
      ]
     },
     "execution_count": 9,
     "metadata": {},
     "output_type": "execute_result"
    }
   ],
   "source": [
    "# mmodel = MathM(modelArguments).to('cuda')\n",
    "def initialize_weights(m):\n",
    "    if isinstance(m, torch.nn.Linear):\n",
    "        nn.init.normal_(m.weight, std=0.1)\n",
    "        if m.bias is not None:\n",
    "            nn.init.zeros_(m.bias)\n",
    "    elif isinstance(m, torch.nn.Embedding):\n",
    "        nn.init.normal_(m.weight, std=0.1)\n",
    "\n",
    "# Apply the function to the model\n",
    "fmodel.apply(initialize_weights)\n",
    "\n",
    "\n",
    "state_dict = torch.load('./checkpoints/model_weightsBPE6.pth')\n",
    "new_state_dict = {k.replace('_orig_mod.', ''): v for k, v in state_dict.items()}\n",
    "fmodel.load_state_dict(new_state_dict, strict=False)"
   ]
  },
  {
   "cell_type": "code",
   "execution_count": 10,
   "metadata": {},
   "outputs": [],
   "source": [
    "fmodel = fmodel.to('cuda')\n",
    "fmodel = torch.compile(fmodel)"
   ]
  },
  {
   "cell_type": "code",
   "execution_count": 11,
   "metadata": {},
   "outputs": [
    {
     "data": {
      "text/plain": [
       "33289728"
      ]
     },
     "execution_count": 11,
     "metadata": {},
     "output_type": "execute_result"
    }
   ],
   "source": [
    "count_parameters(fmodel)"
   ]
  },
  {
   "cell_type": "code",
   "execution_count": 12,
   "metadata": {},
   "outputs": [],
   "source": [
    "from datasets import load_dataset\n",
    "from torch.utils.data import DataLoader, IterableDataset\n",
    "from transformers import PreTrainedTokenizerFast\n",
    "import pickle\n",
    "import os\n",
    "import json\n",
    "\n",
    "dataset = load_dataset(\"damerajee/english-to-hindi-l\", split=\"train\", streaming=False)\n"
   ]
  },
  {
   "cell_type": "code",
   "execution_count": 13,
   "metadata": {},
   "outputs": [
    {
     "name": "stderr",
     "output_type": "stream",
     "text": [
      "/home/frosthead/.conda/envs/DL/lib/python3.11/site-packages/transformers/tokenization_utils_base.py:1601: FutureWarning: `clean_up_tokenization_spaces` was not set. It will be set to `True` by default. This behavior will be depracted in transformers v4.45, and will be then set to `False` by default. For more details check this issue: https://github.com/huggingface/transformers/issues/31884\n",
      "  warnings.warn(\n"
     ]
    }
   ],
   "source": [
    "tokenizer = PreTrainedTokenizerFast(tokenizer_file=\"hinditokenizer.json\")\n"
   ]
  },
  {
   "cell_type": "code",
   "execution_count": 14,
   "metadata": {},
   "outputs": [],
   "source": [
    "def tokenize(text, second = False):\n",
    "    ids = tokenizer.encode(text, add_special_tokens=True)\n",
    "    ids1 = [1] + ids + [2] \n",
    "    ids1 = torch.tensor(ids1, dtype=torch.int16)\n",
    "    \n",
    "    # Pad or truncate the sequence to tholtae max_seq_length\n",
    "    if ids1.size(0) < modelArguments.max_seq_len:\n",
    "        padding_length = modelArguments.max_seq_len - ids1.size(0)\n",
    "        ids1 = torch.cat([ids1, torch.zeros(padding_length, dtype=torch.int16)])\n",
    "        \n",
    "    elif ids1.size(0) >= modelArguments.max_seq_len:\n",
    "        ids1 = ids1[:modelArguments.max_seq_len]\n",
    "        ids1[-1] = 2\n",
    "    return ids1"
   ]
  },
  {
   "cell_type": "code",
   "execution_count": 15,
   "metadata": {},
   "outputs": [],
   "source": [
    "class TokenizedIterableDataset(IterableDataset):\n",
    "    def __init__(self, dataset, args,state_file='dataset_state.pkl'):\n",
    "        self.dataset = dataset\n",
    "        self.state_file = state_file\n",
    "        self.buffer = \"\"\n",
    "        self.current_index = 000\n",
    "        self.args = args\n",
    "        # self.load_state()\n",
    "\n",
    "    def __iter__(self):\n",
    "        index = 0\n",
    "        buffer = None\n",
    "        for example in dataset:\n",
    "            \n",
    "            english = tokenize(example['english_sentence'])\n",
    "            hindi = tokenize(example['hindi_sentence'])\n",
    "\n",
    "\n",
    "            yield english, hindi\n",
    "\n",
    "\n",
    "\n",
    "            self.current_index = index\n",
    "            index += 1\n",
    "\n",
    "\n",
    "def collate_fn(batch):\n",
    "    inputs = torch.stack([item[0] for item in batch])\n",
    "    response = torch.stack([item[1] for item in batch])\n",
    "\n",
    "\n",
    "    return inputs, response\n",
    "\n",
    "# Create an instance of the IterableDataset\n",
    "train_dataset = TokenizedIterableDataset(dataset, modelArguments)\n",
    "\n",
    "# Create a DataLoader\n",
    "train_dataloader = DataLoader(train_dataset, batch_size=modelArguments.max_batch_size, collate_fn=collate_fn)\n",
    "\n"
   ]
  },
  {
   "cell_type": "code",
   "execution_count": 16,
   "metadata": {},
   "outputs": [
    {
     "name": "stdout",
     "output_type": "stream",
     "text": [
      "tensor([    1,  1629,   439,   375,   798,   341,   729,    29,   476, 21511,\n",
      "          664,    10, 24740, 13126,  4386,   729,   332,   588,  3509,    17,\n",
      "        16746,   362, 15520,    12,   829,   369,  3786,   390,   729,    17,\n",
      "         5228,  2210,   278, 20656,  2509,     4,     2,     0,     0,     0,\n",
      "            0,     0,     0,     0,     0,     0,     0,     0,     0,     0,\n",
      "            0,     0,     0,     0,     0,     0,     0,     0,     0,     0,\n",
      "            0,     0,     0,     0,     0,     0,     0,     0,     0,     0,\n",
      "            0,     0,     0,     0,     0,     0,     0,     0,     0,     0,\n",
      "            0,     0,     0,     0,     0,     0,     0,     0,     0,     0,\n",
      "            0,     0,     0,     0,     0,     0,     0,     0,     0,     0,\n",
      "            0,     0,     0,     0,     0,     0,     0,     0,     0,     0,\n",
      "            0,     0,     0,     0,     0,     0,     0,     0,     0,     0,\n",
      "            0,     0,     0,     0,     0,     0,     0,     0,     0,     0,\n",
      "            0,     0,     0,     0,     0,     0,     0,     0,     0,     0,\n",
      "            0,     0,     0,     0,     0,     0,     0,     0,     0,     0,\n",
      "            0,     0,     0,     0,     0,     0,     0,     0,     0,     0,\n",
      "            0,     0,     0,     0,     0,     0,     0,     0,     0,     0,\n",
      "            0,     0,     0,     0,     0,     0,     0,     0,     0,     0,\n",
      "            0,     0,     0,     0,     0,     0,     0,     0,     0,     0,\n",
      "            0,     0,     0,     0,     0,     0,     0,     0,     0,     0,\n",
      "            0,     0,     0,     0,     0,     0,     0,     0,     0,     0,\n",
      "            0,     0,     0,     0,     0,     0,     0,     0,     0,     0,\n",
      "            0,     0,     0,     0,     0,     0,     0,     0,     0,     0,\n",
      "            0,     0,     0,     0,     0,     0,     0,     0,     0,     0,\n",
      "            0,     0,     0,     0,     0,     0,     0,     0,     0,     0,\n",
      "            0,     0,     0,     0,     0,     0], dtype=torch.int16)\n",
      "tensor([    1,   582,   690,  1511,   265,   528,   263,   305,   263,   272,\n",
      "          263,   280,   560,   602,  1481,   266,   285,   263,   284,   281,\n",
      "          265,  1837,  4285,   330,   275,  5031,   269,   274,   263,   264,\n",
      "          419,   265,   349,   371,   288,   270,   263,   284,   377,  1460,\n",
      "          263,   329,   265,   272,   263,   280,   408,   888,   606,   569,\n",
      "          265,   336,   267,   344,   330,   275,  3355,   266,  1285,   280,\n",
      "          271,   268,   263,   414,   643,   280,   560,   349,   498,   694,\n",
      "          288,   272,    16,   284,   271,   323,   288,   264,   271, 16659,\n",
      "          266,   277,   263,   280,  5824,   224,     2,     0,     0,     0,\n",
      "            0,     0,     0,     0,     0,     0,     0,     0,     0,     0,\n",
      "            0,     0,     0,     0,     0,     0,     0,     0,     0,     0,\n",
      "            0,     0,     0,     0,     0,     0,     0,     0,     0,     0,\n",
      "            0,     0,     0,     0,     0,     0,     0,     0,     0,     0,\n",
      "            0,     0,     0,     0,     0,     0,     0,     0,     0,     0,\n",
      "            0,     0,     0,     0,     0,     0,     0,     0,     0,     0,\n",
      "            0,     0,     0,     0,     0,     0,     0,     0,     0,     0,\n",
      "            0,     0,     0,     0,     0,     0,     0,     0,     0,     0,\n",
      "            0,     0,     0,     0,     0,     0,     0,     0,     0,     0,\n",
      "            0,     0,     0,     0,     0,     0,     0,     0,     0,     0,\n",
      "            0,     0,     0,     0,     0,     0,     0,     0,     0,     0,\n",
      "            0,     0,     0,     0,     0,     0,     0,     0,     0,     0,\n",
      "            0,     0,     0,     0,     0,     0,     0,     0,     0,     0,\n",
      "            0,     0,     0,     0,     0,     0,     0,     0,     0,     0,\n",
      "            0,     0,     0,     0,     0,     0,     0,     0,     0,     0,\n",
      "            0,     0,     0,     0,     0,     0,     0,     0,     0,     0,\n",
      "            0,     0,     0,     0,     0,     0], dtype=torch.int16)\n"
     ]
    }
   ],
   "source": [
    "var = 0\n",
    "for k, (a,b)in enumerate(train_dataloader):\n",
    "    print(a[0])\n",
    "    print(b[0])\n",
    "    break\n",
    "    \n",
    "\n",
    "# print(var)\n",
    "\n"
   ]
  },
  {
   "cell_type": "code",
   "execution_count": null,
   "metadata": {},
   "outputs": [],
   "source": []
  },
  {
   "cell_type": "code",
   "execution_count": 17,
   "metadata": {},
   "outputs": [],
   "source": [
    "def id_to_token(x):\n",
    "    s = ''\n",
    "    for i in x[0]:\n",
    "        # j = torch.argmax(i)\n",
    "        s += tokenizer.decode(i)\n",
    "\n",
    "    return s\n",
    "\n",
    "def id_to_token_M(x):\n",
    "    s = ''\n",
    "    for i in x[0]:\n",
    "        j = torch.argmax(i)\n",
    "        s += tokenizer.decode(j)\n",
    "\n",
    "    return s"
   ]
  },
  {
   "cell_type": "code",
   "execution_count": 18,
   "metadata": {},
   "outputs": [],
   "source": [
    "inp = tokenize(\"Hello, My name is Ayush.\").unsqueeze_(0).to(torch.long).to('cuda')\n",
    "out = tokenize(\"मेरा नाम \").unsqueeze_(0).to(torch.long).to('cuda')\n"
   ]
  },
  {
   "cell_type": "code",
   "execution_count": 19,
   "metadata": {},
   "outputs": [],
   "source": [
    "ans = fmodel(inp, out)"
   ]
  },
  {
   "cell_type": "code",
   "execution_count": 20,
   "metadata": {},
   "outputs": [
    {
     "name": "stdout",
     "output_type": "stream",
     "text": [
      "[SOS]मेरा नाम [EOS][PAD][PAD][PAD][PAD][PAD][PAD][PAD][PAD][PAD][PAD][PAD][PAD][PAD][PAD][PAD][PAD][PAD][PAD][PAD][PAD][PAD][PAD][PAD][PAD][PAD][PAD][PAD][PAD][PAD][PAD][PAD][PAD][PAD][PAD][PAD][PAD][PAD][PAD][PAD][PAD][PAD][PAD][PAD][PAD][PAD][PAD][PAD][PAD][PAD][PAD][PAD][PAD][PAD][PAD][PAD][PAD][PAD][PAD][PAD][PAD][PAD][PAD][PAD][PAD][PAD][PAD][PAD][PAD][PAD][PAD][PAD][PAD][PAD][PAD][PAD][PAD][PAD][PAD][PAD][PAD][PAD][PAD][PAD][PAD][PAD][PAD][PAD][PAD][PAD][PAD][PAD][PAD][PAD][PAD][PAD][PAD][PAD][PAD][PAD][PAD][PAD][PAD][PAD][PAD][PAD][PAD][PAD][PAD][PAD][PAD][PAD][PAD][PAD][PAD][PAD][PAD][PAD][PAD][PAD][PAD][PAD][PAD][PAD][PAD][PAD][PAD][PAD][PAD][PAD][PAD][PAD][PAD][PAD][PAD][PAD][PAD][PAD][PAD][PAD][PAD][PAD][PAD][PAD][PAD][PAD][PAD][PAD][PAD][PAD][PAD][PAD][PAD][PAD][PAD][PAD][PAD][PAD][PAD][PAD][PAD][PAD][PAD][PAD][PAD][PAD][PAD][PAD][PAD][PAD][PAD][PAD][PAD][PAD][PAD][PAD][PAD][PAD][PAD][PAD][PAD][PAD][PAD][PAD][PAD][PAD][PAD][PAD][PAD][PAD][PAD][PAD][PAD][PAD][PAD][PAD][PAD][PAD][PAD][PAD][PAD][PAD][PAD][PAD][PAD][PAD][PAD][PAD][PAD][PAD][PAD][PAD][PAD][PAD][PAD][PAD][PAD][PAD][PAD][PAD][PAD][PAD][PAD][PAD][PAD][PAD][PAD][PAD][PAD][PAD][PAD][PAD][PAD][PAD][PAD][PAD][PAD][PAD][PAD][PAD][PAD][PAD][PAD][PAD][PAD][PAD][PAD]\n",
      " नहमेया काम[EOS][EOS][EOS][EOS][EOS][EOS]ा।[EOS][EOS]रय[EOS]रयञरयञञ[EOS]ञ[EOS]ञ[EOS][EOS][EOS]ञञ[EOS][EOS][EOS][EOS][EOS][EOS][EOS][EOS][EOS][EOS][EOS][EOS][EOS][EOS][EOS][EOS][EOS][EOS][EOS][EOS][EOS][EOS][EOS][EOS][EOS][EOS][EOS][EOS][EOS][EOS][EOS][EOS][EOS][EOS][EOS][EOS][EOS][EOS][EOS][EOS][EOS][EOS][EOS][EOS][EOS][EOS][EOS][EOS][EOS][EOS][EOS][EOS][EOS][EOS][EOS][EOS][EOS][EOS][EOS][EOS][EOS][EOS][EOS][EOS][EOS]य[EOS][EOS][EOS][EOS][EOS][EOS][EOS][EOS][EOS][EOS][EOS][EOS][EOS][EOS][EOS][EOS][EOS][EOS][EOS][EOS][EOS][EOS][EOS][EOS][EOS][EOS][EOS][EOS][EOS][EOS][EOS][EOS][EOS][EOS][EOS][EOS][EOS][EOS][EOS][EOS][EOS][EOS][EOS][EOS][EOS][EOS][EOS][EOS][EOS][EOS][EOS][EOS][EOS][EOS][EOS][EOS][EOS][EOS][EOS][EOS][EOS][EOS][EOS][EOS][EOS][EOS][EOS][EOS][EOS][EOS][EOS][EOS][EOS][EOS][EOS][EOS][EOS][EOS][EOS][EOS][EOS][EOS][EOS][EOS][EOS][EOS][EOS][EOS][EOS][EOS][EOS][EOS][EOS][EOS][EOS][EOS][EOS][EOS][EOS][EOS][EOS][EOS][EOS][EOS][EOS][EOS][EOS][EOS][EOS][EOS][EOS][EOS][EOS][EOS][EOS][EOS][EOS][EOS][EOS][EOS][EOS][EOS][EOS][EOS][EOS][EOS][EOS][EOS][EOS][EOS][EOS][EOS][EOS][EOS][EOS][EOS][EOS][EOS][EOS][EOS][EOS] [EOS] [EOS][EOS][EOS][EOS][EOS][EOS][EOS][EOS][EOS][EOS][EOS][EOS][EOS]\n"
     ]
    }
   ],
   "source": [
    "print(id_to_token(out))\n",
    "print(id_to_token_M(ans))"
   ]
  },
  {
   "cell_type": "code",
   "execution_count": 23,
   "metadata": {},
   "outputs": [],
   "source": [
    "class TransformerLRScheduler(torch.optim.lr_scheduler.LambdaLR):\n",
    "    def __init__(self, optimizer, d_model, warmup_steps):\n",
    "        self.d_model = d_model\n",
    "        self.warmup_steps = warmup_steps\n",
    "        super().__init__(optimizer, self.lr_lambda)\n",
    "\n",
    "    def lr_lambda(self, step):\n",
    "        step = max(step, 1)  # To avoid division by zero\n",
    "        return (self.d_model ** -0.5) * min(step ** -0.5, step * self.warmup_steps ** -1.5)\n"
   ]
  },
  {
   "cell_type": "code",
   "execution_count": 24,
   "metadata": {},
   "outputs": [],
   "source": [
    "history = []\n",
    "rloss = 0"
   ]
  },
  {
   "cell_type": "code",
   "execution_count": 25,
   "metadata": {},
   "outputs": [],
   "source": [
    "from torch.utils.tensorboard import SummaryWriter"
   ]
  },
  {
   "cell_type": "code",
   "execution_count": 26,
   "metadata": {},
   "outputs": [],
   "source": [
    "def log_weights(writer, model, epoch):\n",
    "    for name, param in model.named_parameters():\n",
    "        writer.add_histogram(f'{name}.weights', param, epoch)\n",
    "        if param.grad is not None:\n",
    "            writer.add_histogram(f'{name}.gradients', param.grad, epoch)\n",
    "\n",
    "def log_activations(writer, layer_name, output, epoch):\n",
    "    writer.add_histogram(f'{layer_name}.activations', output, epoch)"
   ]
  },
  {
   "cell_type": "code",
   "execution_count": 27,
   "metadata": {},
   "outputs": [],
   "source": [
    "writer = SummaryWriter('runs/full_automatic_tracking')"
   ]
  },
  {
   "cell_type": "code",
   "execution_count": 28,
   "metadata": {},
   "outputs": [],
   "source": [
    "loss_fn = nn.CrossEntropyLoss(ignore_index=0)\n",
    "loss_fn2 = nn.MSELoss()\n",
    "loss_fn3 = nn.MSELoss()\n",
    "loss_fn4 = nn.MSELoss()\n",
    "optimizer = torch.optim.AdamW(fmodel.parameters(), betas=(0.9, 0.99), lr = 0.1, weight_decay=0.01, eps=1e-8)\n",
    "# optimizer.load_state_dict(torch.load('checkpoints/optimizer1.pth'))\n",
    "optimizer.zero_grad()\n",
    "torch.cuda.empty_cache()\n",
    "schedular = TransformerLRScheduler(optimizer, 512, 500)"
   ]
  },
  {
   "cell_type": "code",
   "execution_count": 29,
   "metadata": {},
   "outputs": [],
   "source": [
    "import matplotlib.pyplot as plt\n",
    "import numpy as np\n",
    "import torch\n",
    "\n",
    "def plot_loss_with_trend(loss_array, window_size=25):\n",
    "    \"\"\"\n",
    "    Plots the loss function with an additional line to show the trend.\n",
    "\n",
    "    Args:\n",
    "    loss_array (list or np.array): Array of loss values.\n",
    "    window_size (int): The window size for calculating the moving average trend line.\n",
    "    \"\"\"\n",
    "    # Convert loss_array to a numpy array if it's not already\n",
    "    loss_array = np.array(loss_array)\n",
    "\n",
    "    # Calculate the moving average for the trend line\n",
    "    trend_line = np.convolve(loss_array, np.ones(window_size)/window_size, mode='valid')\n",
    "    trend = (trend_line[0]-trend_line[-1])/trend_line.size\n",
    "    trend2 = (trend_line[-1]-trend_line[-window_size-1])/window_size if len(trend_line) > window_size else 0\n",
    "    \n",
    "\n",
    "    # Plot the loss function\n",
    "    print(\"overall :\",trend)\n",
    "    print(\"last window :\",trend2)\n",
    "\n",
    "    plt.figure(figsize=(10, 6))\n",
    "    plt.plot(loss_array, label='Loss', color='blue', alpha=0.6)\n",
    "    plt.plot(range(window_size - 1, len(loss_array)), trend_line, label='Trend', color='red', linestyle='--', linewidth=2)\n",
    "\n",
    "    # Adding labels and title\n",
    "    plt.xlabel('Epochs')\n",
    "    plt.ylabel('Loss')\n",
    "    plt.yscale('log')\n",
    "    plt.title('Loss Function with Trend Line')\n",
    "    plt.legend()\n",
    "    plt.grid(True)\n",
    "    plt.savefig('current_loss.jpg')\n",
    "    plt.show()"
   ]
  },
  {
   "cell_type": "code",
   "execution_count": 30,
   "metadata": {},
   "outputs": [],
   "source": [
    "optimizer.zero_grad()\n",
    "torch.cuda.empty_cache()\n",
    "from IPython.display import clear_output\n",
    "rloss = 0\n"
   ]
  },
  {
   "cell_type": "code",
   "execution_count": 31,
   "metadata": {},
   "outputs": [
    {
     "name": "stdout",
     "output_type": "stream",
     "text": [
      "------  Loss: 0.047337550669908524 ------ \n",
      "\n",
      "inp:  [SOS]Burn an existing CD / DVD image to disc[EOS][PAD][PAD][PAD][PAD][PAD][PAD][PAD][PAD][PAD][PAD][PAD][PAD][PAD][PAD][PAD][PAD][PAD][PAD][PAD][PAD][PAD][PAD][PAD][PAD][PAD][PAD][PAD][PAD][PAD][PAD][PAD][PAD][PAD][PAD][PAD][PAD][PAD][PAD][PAD][PAD][PAD][PAD][PAD][PAD][PAD][PAD][PAD][PAD][PAD][PAD][PAD][PAD][PAD][PAD][PAD][PAD][PAD][PAD][PAD][PAD][PAD][PAD][PAD][PAD][PAD][PAD][PAD][PAD][PAD][PAD][PAD][PAD][PAD][PAD][PAD][PAD][PAD][PAD][PAD][PAD][PAD][PAD][PAD][PAD][PAD][PAD][PAD][PAD][PAD][PAD][PAD][PAD][PAD][PAD][PAD][PAD][PAD][PAD][PAD][PAD][PAD][PAD][PAD][PAD][PAD][PAD][PAD][PAD][PAD][PAD][PAD][PAD][PAD][PAD][PAD][PAD][PAD][PAD][PAD][PAD][PAD][PAD][PAD][PAD][PAD][PAD][PAD][PAD][PAD][PAD][PAD][PAD][PAD][PAD][PAD][PAD][PAD][PAD][PAD][PAD][PAD][PAD][PAD][PAD][PAD][PAD][PAD][PAD][PAD][PAD][PAD][PAD][PAD][PAD][PAD][PAD][PAD][PAD][PAD][PAD][PAD][PAD][PAD][PAD][PAD][PAD][PAD][PAD][PAD][PAD][PAD][PAD][PAD][PAD][PAD][PAD][PAD][PAD][PAD][PAD][PAD][PAD][PAD][PAD][PAD][PAD][PAD][PAD][PAD][PAD][PAD][PAD][PAD][PAD][PAD][PAD][PAD][PAD][PAD][PAD][PAD][PAD][PAD][PAD][PAD][PAD][PAD][PAD][PAD][PAD][PAD][PAD][PAD][PAD][PAD][PAD][PAD][PAD][PAD][PAD][PAD][PAD][PAD][PAD][PAD][PAD][PAD][PAD][PAD][PAD][PAD][PAD][PAD][PAD][PAD][PAD][PAD][PAD][PAD][PAD][PAD][PAD][PAD][PAD][PAD] \n",
      "\n",
      "true:  [SOS]मौजूदा सीडी/डीवीडी छवि को डिस्क में लिखें[EOS][PAD][PAD][PAD][PAD][PAD][PAD][PAD][PAD][PAD][PAD][PAD][PAD][PAD][PAD][PAD][PAD][PAD][PAD][PAD][PAD][PAD][PAD][PAD][PAD][PAD][PAD][PAD][PAD][PAD][PAD][PAD][PAD][PAD][PAD][PAD][PAD][PAD][PAD][PAD][PAD][PAD][PAD][PAD][PAD][PAD][PAD][PAD][PAD][PAD][PAD][PAD][PAD][PAD][PAD][PAD][PAD][PAD][PAD][PAD][PAD][PAD][PAD][PAD][PAD][PAD][PAD][PAD][PAD][PAD][PAD][PAD][PAD][PAD][PAD][PAD][PAD][PAD][PAD][PAD][PAD][PAD][PAD][PAD][PAD][PAD][PAD][PAD][PAD][PAD][PAD][PAD][PAD][PAD][PAD][PAD][PAD][PAD][PAD][PAD][PAD][PAD][PAD][PAD][PAD][PAD][PAD][PAD][PAD][PAD][PAD][PAD][PAD][PAD][PAD][PAD][PAD][PAD][PAD][PAD][PAD][PAD][PAD][PAD][PAD][PAD][PAD][PAD][PAD][PAD][PAD][PAD][PAD][PAD][PAD][PAD][PAD][PAD][PAD][PAD][PAD][PAD][PAD][PAD][PAD][PAD][PAD][PAD][PAD][PAD][PAD][PAD][PAD][PAD][PAD][PAD][PAD][PAD][PAD][PAD][PAD][PAD][PAD][PAD][PAD][PAD][PAD][PAD][PAD][PAD][PAD][PAD][PAD][PAD][PAD][PAD][PAD][PAD][PAD][PAD][PAD][PAD][PAD][PAD][PAD][PAD][PAD][PAD][PAD][PAD][PAD][PAD][PAD][PAD][PAD][PAD][PAD][PAD][PAD][PAD][PAD][PAD][PAD][PAD][PAD][PAD][PAD][PAD][PAD][PAD][PAD][PAD][PAD][PAD][PAD][PAD][PAD][PAD][PAD][PAD][PAD][PAD][PAD][PAD]\n",
      "out:  बाडिर क केडिगिना[EOS]ि[EOS]ि केईाल्ताें[EOS]िखा[EOS][EOS][EOS][EOS][EOS][EOS][EOS][EOS][EOS][EOS][EOS][EOS][EOS][EOS][EOS][EOS][EOS][EOS][EOS][EOS][EOS][EOS][EOS][EOS][EOS][EOS][EOS][EOS][EOS][EOS][EOS][EOS][EOS][EOS][EOS][EOS][EOS][EOS][EOS][EOS][EOS][EOS][EOS][EOS][EOS][EOS][EOS][EOS][EOS][EOS][EOS][EOS][EOS][EOS][EOS][EOS][EOS][EOS][EOS][EOS][EOS][EOS][EOS][EOS][EOS][EOS][EOS][EOS][EOS][EOS][EOS][EOS][EOS][EOS][EOS][EOS][EOS][EOS][EOS][EOS][EOS][EOS][EOS][EOS][EOS][EOS][EOS][EOS][EOS][EOS][EOS][EOS][EOS][EOS][EOS][EOS][EOS][EOS][EOS][EOS][EOS][EOS][EOS][EOS][EOS][EOS][EOS][EOS][EOS][EOS][EOS][EOS][EOS][EOS][EOS][EOS][EOS][EOS][EOS][EOS][EOS][EOS][EOS][EOS][EOS][EOS][EOS][EOS][EOS][EOS][EOS][EOS][EOS][EOS][EOS][EOS][EOS][EOS][EOS][EOS][EOS][EOS][EOS][EOS][EOS][EOS][EOS][EOS][EOS][EOS][EOS][EOS][EOS][EOS][EOS][EOS][EOS][EOS][EOS][EOS][EOS][EOS][EOS][EOS][EOS][EOS][EOS][EOS][EOS][EOS][EOS][EOS][EOS][EOS][EOS][EOS][EOS][EOS][EOS][EOS][EOS][EOS][EOS][EOS][EOS][EOS][EOS][EOS][EOS][EOS][EOS][EOS][EOS][EOS][EOS][EOS][EOS][EOS][EOS][EOS][EOS][EOS][EOS][EOS][EOS][EOS][EOS][EOS][EOS][EOS][EOS][EOS][EOS][EOS][EOS][EOS][EOS][EOS][EOS][EOS][EOS][EOS][EOS][EOS][EOS] \n",
      "\n",
      "\n",
      "\n",
      "-----Steps : 925, Loss: 3.094935, LR: [0.00014530954842977413], #tokens : 256 ,timeT : 470.26515007019043ms ----- \n",
      "-----Steps : 926, Loss: 3.135717, LR: [0.0001452310663563041], #tokens : 256 ,timeT : 475.88467597961426ms ----- \n"
     ]
    },
    {
     "ename": "KeyboardInterrupt",
     "evalue": "",
     "output_type": "error",
     "traceback": [
      "\u001b[0;31m---------------------------------------------------------------------------\u001b[0m",
      "\u001b[0;31mKeyboardInterrupt\u001b[0m                         Traceback (most recent call last)",
      "Cell \u001b[0;32mIn[31], line 69\u001b[0m\n\u001b[1;32m     60\u001b[0m     plot_loss_with_trend(history[\u001b[38;5;241m1\u001b[39m:], window_size\u001b[38;5;241m=\u001b[39m\u001b[38;5;241m25\u001b[39m)\n\u001b[1;32m     63\u001b[0m \u001b[38;5;66;03m# if loss_fn4(se2,e) >= 10000:\u001b[39;00m\n\u001b[1;32m     64\u001b[0m \u001b[38;5;66;03m#     print(\"out: \", id_to_token(a),\"\\n\")\u001b[39;00m\n\u001b[1;32m     65\u001b[0m \u001b[38;5;66;03m#     print(\"Output shape:\", e[0], \"\\n\")\u001b[39;00m\n\u001b[1;32m     66\u001b[0m \u001b[38;5;66;03m#     print(\"Target shape:\", se2[0], \"\\n\")\u001b[39;00m\n\u001b[1;32m     67\u001b[0m \u001b[38;5;66;03m#     print(loss.item(), loss_fn4(se2,e),loss_fn(out[:, :modelArguments.max_seq_len-1, :].contiguous().view(-1, out.size(-1)), c[:, 1:modelArguments.max_seq_len].contiguous().view(-1)) , loss_fn3(se, d), \"\\n\")\u001b[39;00m\n\u001b[0;32m---> 69\u001b[0m \u001b[38;5;28;01mif\u001b[39;00m (batch_idx) \u001b[38;5;241m%\u001b[39m ((max_no_tokens \u001b[38;5;241m/\u001b[39m modelArguments\u001b[38;5;241m.\u001b[39mmax_batch_size)\u001b[38;5;241m*\u001b[39m\u001b[38;5;241m12\u001b[39m) \u001b[38;5;241m==\u001b[39m \u001b[38;5;241m0\u001b[39m \u001b[38;5;129;01mor\u001b[39;00m math\u001b[38;5;241m.\u001b[39misnan(loss):\n\u001b[1;32m     70\u001b[0m     \u001b[38;5;66;03m# clear_output(wait=False)\u001b[39;00m\n\u001b[1;32m     71\u001b[0m     torch\u001b[38;5;241m.\u001b[39msave(fmodel\u001b[38;5;241m.\u001b[39mstate_dict(), \u001b[38;5;124m'\u001b[39m\u001b[38;5;124mcheckpoints/model_weightsBPE7.pth\u001b[39m\u001b[38;5;124m'\u001b[39m)\n\u001b[1;32m     72\u001b[0m     torch\u001b[38;5;241m.\u001b[39msave(optimizer\u001b[38;5;241m.\u001b[39mstate_dict(), \u001b[38;5;124m'\u001b[39m\u001b[38;5;124mcheckpoints/optimizer2.pth\u001b[39m\u001b[38;5;124m'\u001b[39m)\n",
      "\u001b[0;31mKeyboardInterrupt\u001b[0m: "
     ]
    }
   ],
   "source": [
    "open = False\n",
    "for epoch in range(4000):\n",
    "    global_step = 0\n",
    "    sloss = 0\n",
    "    train_dataloader = DataLoader(train_dataset, batch_size=modelArguments.max_batch_size, collate_fn=collate_fn)\n",
    "    for batch_idx, (a, b) in enumerate(train_dataloader):\n",
    "        # if torch.isnan(a).any() or torch.isnan(b).any():\n",
    "        #     continue\n",
    "        a = a.to(torch.long).to('cuda')\n",
    "        b = b.to(torch.long).to('cuda')\n",
    "\n",
    "\n",
    "\n",
    "        max_no_tokens = 2**8\n",
    "        accumulation_steps = max_no_tokens//(modelArguments.max_batch_size)\n",
    "\n",
    "        t0 = time.time()\n",
    "        out = fmodel(a, b)\n",
    "        loss = loss_fn(out[:, :modelArguments.max_seq_len-1, :].contiguous().view(-1, out.size(-1)), b[:, 1:modelArguments.max_seq_len].contiguous().view(-1))\n",
    "        loss = loss / accumulation_steps\n",
    "\n",
    "\n",
    "\n",
    "\n",
    "\n",
    "        rloss += loss.item()\n",
    "        # scaler.scale(loss).backward()\n",
    "        loss.backward()\n",
    "\n",
    "\n",
    "\n",
    "        if(batch_idx+1) % (2**10) and len(history) > 50 == 0:\n",
    "            print(\"Images Saved\")\n",
    "            plot_loss_with_trend(history[1:], window_size=25)\n",
    "\n",
    "            \n",
    "        # if loss_fn4(se2,e) >= 10000:\n",
    "        #     print(\"out: \", id_to_token(a),\"\\n\")\n",
    "        #     print(\"Output shape:\", e[0], \"\\n\")\n",
    "        #     print(\"Target shape:\", se2[0], \"\\n\")\n",
    "        #     print(loss.item(), loss_fn4(se2,e),loss_fn(out[:, :modelArguments.max_seq_len-1, :].contiguous().view(-1, out.size(-1)), c[:, 1:modelArguments.max_seq_len].contiguous().view(-1)) , loss_fn3(se, d), \"\\n\")\n",
    "        \n",
    "        if (batch_idx) % ((max_no_tokens / modelArguments.max_batch_size)*12) == 0 or math.isnan(loss):\n",
    "            # clear_output(wait=False)\n",
    "            torch.save(fmodel.state_dict(), 'checkpoints/model_weightsBPE7.pth')\n",
    "            torch.save(optimizer.state_dict(), 'checkpoints/optimizer2.pth')\n",
    "            torch.save(history, 'checkpoints/history2.pth')\n",
    "            # save_and_transfer_checkpoints(model.state_dict(), 'modelWeights.pth', '/home/frosthead/Projects/LLaMA2/', '.')\n",
    "            ce = loss_fn(out[:, :modelArguments.max_seq_len-1, :].contiguous().view(-1, out.size(-1)), b[:, 1:modelArguments.max_seq_len].contiguous().view(-1))\n",
    "\n",
    "            \n",
    "            try:\n",
    "                writer.add_scalar('Loss/train', rloss, global_step)\n",
    "                writer.add_scalar('Loss/ce', ce, global_step)\n",
    "                # writer.add_scalar('Loss/sloss', sloss, global_step)\n",
    "\n",
    "\n",
    "\n",
    "                # Log weights and gradients\n",
    "                log_weights(writer, fmodel, global_step)\n",
    "            except:\n",
    "                optimizer.zero_grad()\n",
    "                torch.cuda.empty_cache()\n",
    "            clear_output()\n",
    "            print(\"-\"*6,f\" Loss: {rloss}\", \"-\"*6,\"\\n\")\n",
    "            print(\"inp: \", id_to_token(a),\"\\n\")\n",
    "            print(\"true: \", id_to_token(b))\n",
    "            print(\"out: \", id_to_token_M(out),\"\\n\")\n",
    "\n",
    "            print('\\n')\n",
    "\n",
    "            \n",
    "        \n",
    "        if (batch_idx+1) % accumulation_steps == 0:\n",
    "            # scaler.unscale_(optimizer)\n",
    "            torch.nn.utils.clip_grad_norm_(fmodel.parameters(), max_norm=1)\n",
    "            # scaler.step(optimizer)\n",
    "            optimizer.step()\n",
    "            schedular.step()\n",
    "            # scaler.update()\n",
    "            global_step += 1\n",
    "            optimizer.zero_grad()\n",
    "\n",
    "            history.append(rloss)\n",
    "            \n",
    "            torch.cuda.synchronize()\n",
    "            t1 = time.time()\n",
    "\n",
    "            dt = (t1-t0)*1000 \n",
    "        # if (batch_idx % 10 == 0):       \n",
    "            print(f\"-----Steps : {global_step}, Loss: {rloss:8f}, LR: {schedular.get_last_lr()}, #tokens : {max_no_tokens} ,timeT : {dt}ms ----- \")\n",
    "            # print(f\"-----Steps : {global_step}, BatchIDX : {batch_idx}, Loss: {rloss:8f}, #tokens : {max_no_tokens} ,timeT : {dt}ms ----- \")\n",
    "\n",
    "            rloss = 0\n",
    "        torch.cuda.empty_cache()\n",
    "\n",
    "    print(f\"Epoch {epoch+1} completed, {batch_idx}\")   \n",
    "\n",
    "\n",
    "# Close the writer after training\n",
    "writer.close()\n",
    "\n",
    "# Remove hooks after training is done\n",
    "# for hook in hooks:\n",
    "#     hook.remove()\n"
   ]
  },
  {
   "cell_type": "code",
   "execution_count": 41,
   "metadata": {},
   "outputs": [
    {
     "data": {
      "text/plain": [
       "(tensor([[4.6746e+00, 3.5948e+00, 3.0292e+00, 2.2992e+00, 1.9814e+00, 1.6484e+00,\n",
       "          1.1950e+00, 1.4389e+00, 1.0268e+00, 9.2477e-01, 8.2266e-01, 7.3887e-01,\n",
       "          3.5669e-01, 6.2320e-01, 5.9211e-01, 3.3420e-01, 8.9923e-02, 9.2636e-02,\n",
       "          4.3759e-01, 6.2237e-02, 6.7157e-01, 3.7226e-01, 1.7359e-01, 5.0016e-01,\n",
       "          1.0000e+01, 1.3141e-01, 3.0200e-01, 2.4225e-01, 6.4371e-02, 3.6889e-01,\n",
       "          1.9881e-01, 6.5745e-01, 1.1970e-01, 1.0317e-01, 3.0235e-01, 4.6172e-01,\n",
       "          3.3271e-01, 4.9603e-01, 1.1059e-01, 1.1381e-01, 1.8963e-01, 1.3152e-01,\n",
       "          2.2227e-01, 1.2889e-01, 1.2541e-01, 4.6300e-01, 2.9229e-01, 1.3701e-01,\n",
       "          6.2920e-02, 1.1754e-01, 0.0000e+00, 2.2004e-01, 1.8300e-05, 1.1929e-01,\n",
       "          3.9607e-01, 1.5108e-01, 3.2215e-01, 3.9339e-01, 2.4935e-01, 2.3376e-02,\n",
       "          1.9834e-01, 9.5308e-02, 3.1176e-01, 1.7991e-01]], device='cuda:0',\n",
       "        grad_fn=<SelectBackward0>),\n",
       " tensor([[10.0000,  3.4000, 10.0000,  3.4000,  0.4000,  0.4000,  3.4000,  6.8000,\n",
       "          10.0000,  6.8000,  3.2000,  3.2000,  0.0000,  0.0000,  0.0000,  0.0000,\n",
       "           0.0000,  0.0000,  0.0000,  0.0000,  0.0000,  0.0000,  0.0000,  0.0000,\n",
       "           0.0000,  0.0000,  0.0000,  0.0000,  0.0000,  0.0000,  0.0000,  0.0000,\n",
       "           0.0000,  0.0000,  0.0000,  0.0000,  0.0000,  0.0000,  0.0000,  0.0000,\n",
       "           0.0000,  0.0000,  0.0000,  0.0000,  0.0000,  0.0000,  0.0000,  0.0000,\n",
       "           0.0000,  0.0000,  0.0000,  0.0000,  0.0000,  0.0000,  0.0000,  0.0000,\n",
       "           0.0000,  0.0000,  0.0000,  0.0000,  0.0000,  0.0000,  0.0000,  0.0000]],\n",
       "        device='cuda:0'))"
      ]
     },
     "execution_count": 41,
     "metadata": {},
     "output_type": "execute_result"
    }
   ],
   "source": [
    "se[0], e[0]"
   ]
  },
  {
   "cell_type": "code",
   "execution_count": 32,
   "metadata": {},
   "outputs": [],
   "source": [
    "torch.save(fmodel.state_dict(), 'checkpoints/model_weightsBPE6.pth')\n",
    "torch.save(optimizer.state_dict(), 'checkpoints/optimizer1.pth')\n",
    "torch.save(history, 'checkpoints/history1.pth')             "
   ]
  },
  {
   "cell_type": "code",
   "execution_count": 34,
   "metadata": {},
   "outputs": [
    {
     "name": "stdout",
     "output_type": "stream",
     "text": [
      "overall : 0.006014817004779515\n",
      "last window : 0.0006337717920542385\n"
     ]
    },
    {
     "data": {
      "image/png": "[encoded data removed]",
      "text/plain": [
       "<Figure size 1000x600 with 1 Axes>"
      ]
     },
     "metadata": {},
     "output_type": "display_data"
    }
   ],
   "source": [
    "# plt.plot(history[3920:])\n",
    "# plt.yscale('log')\n",
    "# plt.show()\n",
    "history = torch.load('checkpoints/history1.pth')\n",
    "plot_loss_with_trend(history[8:], window_size=10)"
   ]
  },
  {
   "cell_type": "markdown",
   "metadata": {},
   "source": []
  },
  {
   "cell_type": "markdown",
   "metadata": {},
   "source": []
  },
  {
   "cell_type": "markdown",
   "metadata": {},
   "source": []
  }
 ],
 "metadata": {
  "kernelspec": {
   "display_name": "DL",
   "language": "python",
   "name": "python3"
  },
  "language_info": {
   "codemirror_mode": {
    "name": "ipython",
    "version": 3
   },
   "file_extension": ".py",
   "mimetype": "text/x-python",
   "name": "python",
   "nbconvert_exporter": "python",
   "pygments_lexer": "ipython3",
   "version": "3.11.10"
  }
 },
 "nbformat": 4,
 "nbformat_minor": 2
}
